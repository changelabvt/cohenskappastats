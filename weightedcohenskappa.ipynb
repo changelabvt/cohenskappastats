{
 "cells": [
  {
   "cell_type": "code",
   "execution_count": 18,
   "metadata": {},
   "outputs": [
    {
     "name": "stdout",
     "output_type": "stream",
     "text": [
      "Index(['task_1', 'task_2', 'gap_1', 'gap_2', 'action_1', 'action_2'], dtype='object')\n",
      "Weighted Kappa Task (Quadratic): 0.5227849439627829\n",
      "Weighted Kappa Task (Linear): 0.3702102036347712\n",
      "Weighted Kappa Gap (Quadratic): 0.05400557220339541\n",
      "Weighted Kappa Gap (Linear): 0.04795361447109292\n",
      "Weighted Kappa Action (Quadratic): 0.6851249510059796\n",
      "Weighted Kappa Action (Linear): 0.5899275675712491\n"
     ]
    }
   ],
   "source": [
    "import pandas as pd\n",
    "from sklearn.metrics import cohen_kappa_score\n",
    "import numpy as np\n",
    "\n",
    "# Load the data\n",
    "data = pd.read_csv('/Users/susansajadi/Desktop/score_data.csv')\n",
    "\n",
    "# Display the columns to verify data loading\n",
    "print(data.columns)\n",
    "\n",
    "# Drop rows with any NaN values in the specified rating columns (I think these are mostly empty ones but it was giving me issues earlier so had to add this)\n",
    "data.dropna(subset=['task_1', 'task_2', 'gap_1', 'gap_2', 'action_1', 'action_2'], inplace=True)\n",
    "\n",
    "# Adjusting the ratings from 0-3 scale to 1-4 scale  \n",
    "data['task_1'] = data['task_1'] + 1\n",
    "data['task_2'] = data['task_2'] + 1\n",
    "data['gap_1'] = data['gap_1'] + 1\n",
    "data['gap_2'] = data['gap_2'] + 1\n",
    "data['action_1'] = data['action_1'] + 1\n",
    "data['action_2'] = data['action_2'] + 1\n",
    "\n",
    "# Extracting adjusted task ratings into lists\n",
    "task_1_ratings = data['task_1'].tolist()\n",
    "task_2_ratings = data['task_2'].tolist()\n",
    "gap_1_ratings = data['gap_1'].tolist()\n",
    "gap_2_ratings = data['gap_2'].tolist()\n",
    "action_1_ratings = data['action_1'].tolist()\n",
    "action_2_ratings = data['action_2'].tolist()\n",
    "\n",
    "# Calculate weighted Cohen's Kappa with quadratic and linear weights for each pair of ratings\n",
    "weighted_kappa_quadratic_task = cohen_kappa_score(task_1_ratings, task_2_ratings, weights='quadratic')\n",
    "weighted_kappa_linear_task = cohen_kappa_score(task_1_ratings, task_2_ratings, weights='linear')\n",
    "\n",
    "weighted_kappa_quadratic_gap = cohen_kappa_score(gap_1_ratings, gap_2_ratings, weights='quadratic')\n",
    "weighted_kappa_linear_gap = cohen_kappa_score(gap_1_ratings, gap_2_ratings, weights='linear')\n",
    "\n",
    "weighted_kappa_quadratic_action = cohen_kappa_score(action_1_ratings, action_2_ratings, weights='quadratic')\n",
    "weighted_kappa_linear_action = cohen_kappa_score(action_1_ratings, action_2_ratings, weights='linear')\n",
    "\n",
    "# Print the results\n",
    "print(f'Weighted Kappa Task (Quadratic): {weighted_kappa_quadratic_task}')\n",
    "print(f'Weighted Kappa Task (Linear): {weighted_kappa_linear_task}')\n",
    "print(f'Weighted Kappa Gap (Quadratic): {weighted_kappa_quadratic_gap}')\n",
    "print(f'Weighted Kappa Gap (Linear): {weighted_kappa_linear_gap}')\n",
    "print(f'Weighted Kappa Action (Quadratic): {weighted_kappa_quadratic_action}')\n",
    "print(f'Weighted Kappa Action (Linear): {weighted_kappa_linear_action}')\n"
   ]
  },
  {
   "cell_type": "code",
   "execution_count": null,
   "metadata": {},
   "outputs": [],
   "source": []
  },
  {
   "cell_type": "code",
   "execution_count": null,
   "metadata": {},
   "outputs": [],
   "source": []
  }
 ],
 "metadata": {
  "kernelspec": {
   "display_name": "Python 3",
   "language": "python",
   "name": "python3"
  },
  "language_info": {
   "codemirror_mode": {
    "name": "ipython",
    "version": 3
   },
   "file_extension": ".py",
   "mimetype": "text/x-python",
   "name": "python",
   "nbconvert_exporter": "python",
   "pygments_lexer": "ipython3",
   "version": "3.8.5"
  }
 },
 "nbformat": 4,
 "nbformat_minor": 4
}
